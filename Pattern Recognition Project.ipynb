{
 "cells": [
  {
   "cell_type": "markdown",
   "metadata": {},
   "source": [
    "## Importing Libraries"
   ]
  },
  {
   "cell_type": "code",
   "execution_count": 3,
   "metadata": {},
   "outputs": [],
   "source": [
    "from PIL import Image\n",
    "from collections import namedtuple\n",
    "\n",
    "import os\n",
    "import glob\n",
    "import pickle\n",
    "import time\n",
    "import numpy as np\n",
    "\n",
    "from typing import *\n",
    "\n",
    "from sklearn.metrics import confusion_matrix\n",
    "from sklearn.metrics import accuracy_score\n",
    "\n",
    "import matplotlib.pyplot as plt "
   ]
  },
  {
   "cell_type": "markdown",
   "metadata": {},
   "source": [
    "## Integral Image"
   ]
  },
  {
   "cell_type": "code",
   "execution_count": 31,
   "metadata": {},
   "outputs": [],
   "source": [
    "## Calculating integral image\n",
    "def calculate_integral_image(array):\n",
    "    s = np.zeros(array.shape)\n",
    "    ii = np.zeros(array.shape)\n",
    "    for x in range(array.shape[0]):\n",
    "        for y in range(0,array.shape[1]):\n",
    "            s[x,y] = s[x,y-1] + array[x,y] if y>0 else array[x,y]\n",
    "            ii[x,y] = ii[x-1,y] + s[x,y] if x>0 else s[x,y]\n",
    "    return np.pad(ii, (1, 1), 'constant', constant_values=(0, 0))[:-1, :-1]"
   ]
  },
  {
   "cell_type": "markdown",
   "metadata": {},
   "source": [
    "## Haar Features "
   ]
  },
  {
   "cell_type": "code",
   "execution_count": 32,
   "metadata": {},
   "outputs": [],
   "source": [
    "Feature = namedtuple('Feature', 'name x y width height pos_x pos_y kernel')\n",
    "\n",
    "## Two rectangles placed horizontally \n",
    "def feature_2h(x, y, width, height):\n",
    "    pos_x = [x, x+width, x, x+width,\n",
    "                x, x+width, x, x+width]\n",
    "    pos_y = [y, y, y+height, y+height,\n",
    "                y+height, y+height, y+2*height, y+2*height]\n",
    "    kernel = [1, -1, -1, 1,\n",
    "              -1, 1, 1, -1]\n",
    "    return Feature('Two Horizontal Features', x, y, width, 2*height, pos_x, pos_y, kernel)\n",
    "\n",
    "\n",
    "## Three rectangles placed horizontally \n",
    "def feature_3h(x, y, width, height):\n",
    "    pos_x = [x, x+width, x, x+width,\n",
    "                x, x+width, x, x+width,\n",
    "                x, x+width, x, x+width]\n",
    "    pos_y = [y, y, y+height, y+height,\n",
    "                y+height, y+height, y+2*height, y+2*height,\n",
    "                y+2*height, y+2*height, y+3*height, y+3*height]\n",
    "    kernel = [-1, 1, 1, -1,\n",
    "               1, -1, -1, 1,\n",
    "              -1, 1, 1, -1]\n",
    "    return Feature('Three Horizontal Features', x, y, width, 3*height, pos_x, pos_y, kernel)\n",
    "\n",
    "\n",
    "## Two rectangles placed vertically \n",
    "def feature_2v(x, y, width, height):\n",
    "    pos_x = [x, x+width, x, x+width,\n",
    "                x+width, x+2*width, x+width, x+2*width]\n",
    "    pos_y = [y, y, y+height, y+height,\n",
    "               y, y, y+height, y+height]\n",
    "    kernel = [-1, 1, 1, -1,\n",
    "             1, -1, -1, 1]\n",
    "    return Feature('Two Vertical Features', x, y, 2*width, height, pos_x, pos_y, kernel)\n",
    "\n",
    "\n",
    "## Three rectangles placed vertically \n",
    "def feature_3v(x, y, width, height):\n",
    "    pos_x = [x, x+width, x, x+width,\n",
    "                x+width, x+2*width, x+width, x+2*width,\n",
    "                x+2*width, x+3*width, x+2*width, x+3*width]\n",
    "    pos_y = [y, y, y+height, y+height,\n",
    "                y, y, y+height, y+height,\n",
    "                y, y, y+height, y+height]\n",
    "    kernel = [-1, 1, 1, -1,\n",
    "               1, -1, -1, 1,\n",
    "              -1, 1, 1, -1]\n",
    "    return Feature('Three Vertical Features', x, y, 3*width, height, pos_x, pos_y, kernel)\n",
    "\n",
    "\n",
    "## Four rectangles placed diagonally \n",
    "def feature_4d(x, y, width, height):\n",
    "    pos_x = [x, x+width, x, x+width,\n",
    "                x+width, x+2*width, x+width, x+2*width,\n",
    "                x, x+width, x, x+width,\n",
    "                x+width, x+2*width, x+width, x+2*width]\n",
    "    pos_y = [y, y, y+height, y+height,\n",
    "                y, y, y+height, y+height,\n",
    "                y+height, y+height, y+2*height, y+2*height,\n",
    "                y+height, y+height, y+2*height, y+2*height]\n",
    "    kernel = [-1, 1, 1, -1,\n",
    "               1, -1, -1, 1,\n",
    "               1, -1, -1, 1,\n",
    "              -1, 1, 1, -1]\n",
    "    return Feature('Four Diagonal Features', x, y, 2*width, 2*height, pos_x, pos_y, kernel)"
   ]
  },
  {
   "cell_type": "code",
   "execution_count": 33,
   "metadata": {},
   "outputs": [],
   "source": [
    "Feature = namedtuple('Feature', 'name x y width height pos_x pos_y kernel')"
   ]
  },
  {
   "cell_type": "code",
   "execution_count": 34,
   "metadata": {},
   "outputs": [],
   "source": [
    "###### Finding shapes and positions of different haar features\n",
    "def get_all_features(image_shape):\n",
    "        height, width = image_shape\n",
    "        features = [[],[],[],[],[]]\n",
    "        names = ['Two Vertical Features', 'Two Horizontal Features', 'Three Vertical Features', 'Three Horizontal Features', 'Four Diagonal Features']\n",
    "        for i in range(width):\n",
    "            for j in range(height):\n",
    "                for w in range(1, width+1):\n",
    "                    for h in range(1, height+1):\n",
    "                        if i + w < width and j + h < height:\n",
    "                            if j + 2 * h < height:\n",
    "                                features[0].append(feature_2h(i, j, w, h))\n",
    "                            if i + 2 * w < width: \n",
    "                                features[1].append(feature_2v(i, j, w, h))\n",
    "                            if j + 3 * h < height: \n",
    "                                features[2].append(feature_3h(i, j, w, h))\n",
    "                            if i + 3 * w < width:\n",
    "                                features[3].append(feature_3v(i, j, w, h))\n",
    "                            if i + 2 * w < width and j + 2 * h < height:\n",
    "                                features[4].append(feature_4d(i, j, w, h))\n",
    "        total_features = []\n",
    "        for i,fn in enumerate(names):\n",
    "            print('Feature %s with value: %d' % (names[i], len(features[i])))\n",
    "            total_features.extend(features[i])\n",
    "        print('Total Number of Features', len(total_features))\n",
    "        return total_features"
   ]
  },
  {
   "cell_type": "code",
   "execution_count": 35,
   "metadata": {},
   "outputs": [],
   "source": [
    "# get value of a given feature from the integral image\n",
    "def compute_feature(image, feature):\n",
    "    return np.sum(np.multiply(image[feature.pos_y, feature.pos_x], feature.kernel))"
   ]
  },
  {
   "cell_type": "code",
   "execution_count": 36,
   "metadata": {},
   "outputs": [
    {
     "name": "stdout",
     "output_type": "stream",
     "text": [
      "Feature Two Vertical Features with value: 17100\n",
      "Feature Two Horizontal Features with value: 17100\n",
      "Feature Three Vertical Features with value: 10830\n",
      "Feature Three Horizontal Features with value: 10830\n",
      "Feature Four Diagonal Features with value: 8100\n",
      "Total Number of Features 63960\n"
     ]
    }
   ],
   "source": [
    "input_image = Image.open('Dataset/trainset/faces/face00001.png')\n",
    "input_integral = calculate_integral_image( np.array(input_image))\n",
    "total_features = get_all_features(input_integral.shape)"
   ]
  },
  {
   "cell_type": "markdown",
   "metadata": {},
   "source": [
    "## Dataloaders"
   ]
  },
  {
   "cell_type": "markdown",
   "metadata": {},
   "source": [
    "### Extracting the train files which is of shape (Number of features * number of images) and the integral files for both test and train which is of shape (size of integral * number of images)"
   ]
  },
  {
   "cell_type": "code",
   "execution_count": 7,
   "metadata": {},
   "outputs": [],
   "source": [
    "def image_to_array(img):\n",
    "    return np.array(img)\n",
    "def array_to_image(values):\n",
    "    return Image.fromarray(values)"
   ]
  },
  {
   "cell_type": "code",
   "execution_count": 8,
   "metadata": {},
   "outputs": [],
   "source": [
    "if not (os.path.exists('data_train-X_integrals') \n",
    "        and os.path.exists('data_train-X') \n",
    "        and os.path.exists('data_train-Y')):\n",
    "    train_X_integrals = []\n",
    "    train_X = []\n",
    "    train_Y = []\n",
    "\n",
    "    faces_dir = \"Dataset/trainset/faces/\"\n",
    "    face_files = glob.glob(os.path.join(faces_dir, '*.png'))\n",
    "    print('Number of Training face files is:',len(face_files))\n",
    "\n",
    "    non_faces_dir = \"Dataset/trainset/non-faces/\"\n",
    "    non_faces_files = glob.glob(os.path.join(non_faces_dir, '*.png'))\n",
    "    print('Number of Training non-face files is:',len(non_faces_files))\n",
    "\n",
    "\n",
    "    for f in face_files:\n",
    "        x = image_to_array(Image.open(f))\n",
    "        integral= calculate_integral_image(x)\n",
    "        # compute all feature values for this image\n",
    "        feature_values = []\n",
    "        for f in total_features:\n",
    "            feature_values.append(compute_feature(integral, f))\n",
    "        train_X_integrals.append(integral)\n",
    "        train_X.append(feature_values)\n",
    "        train_Y.append(1.0)\n",
    "\n",
    "    for f in non_faces_files:\n",
    "        x = image_to_array(Image.open(f))\n",
    "        integral= calculate_integral_image(x)\n",
    "        # compute all feature values for this image\n",
    "        feature_values = []\n",
    "        for f in total_features:\n",
    "            feature_values.append(compute_feature(integral, f))\n",
    "        train_X_integrals.append(integral)\n",
    "        train_X.append(feature_values)\n",
    "        train_Y.append(0.0)\n",
    "\n",
    "    train_X_integrals = np.array(train_X_integrals)\n",
    "    train_X = np.array(train_X)\n",
    "    train_Y = np.array(train_Y)\n",
    "    print('Train samples feature value matrix shape is',train_X.shape)\n",
    "    train_X_integrals.dump('data_train-X_integrals')                              \n",
    "    train_X.dump('data_train-X')\n",
    "    train_Y.dump('data_train-Y')"
   ]
  },
  {
   "cell_type": "code",
   "execution_count": 87,
   "metadata": {},
   "outputs": [
    {
     "name": "stdout",
     "output_type": "stream",
     "text": [
      "Number of Testing face files is: 472\n",
      "Number of Testing non-face files is: 19572\n"
     ]
    }
   ],
   "source": [
    "if not (os.path.exists('data_test-X_integrals')\n",
    "        and os.path.exists('data_test-Y')):\n",
    "    test_X_integrals = []\n",
    "    test_Y = []\n",
    "\n",
    "    faces_test_dir = \"Dataset/testset/faces/\"\n",
    "    face_test_files = glob.glob(os.path.join(faces_test_dir, '*.png'))\n",
    "    print('Number of Testing face files is:',len(face_test_files))\n",
    "\n",
    "    non_faces_test_directory = \"Dataset/testset/non-faces/\"\n",
    "    non_faces_test_files = glob.glob(os.path.join(non_faces_test_directory, '*.png'))\n",
    "    print('Number of Testing non-face files is:',len(non_faces_test_files))\n",
    "\n",
    "\n",
    "    for f in face_test_files:\n",
    "        x = image_to_array(Image.open(f))\n",
    "        integral= calculate_integral_image(x)\n",
    "        test_X_integrals.append(integral)\n",
    "        test_Y.append(1.0)\n",
    "\n",
    "    for f in non_faces_test_files:\n",
    "        x = image_to_array(Image.open(f))\n",
    "        integral= calculate_integral_image(x)\n",
    "        test_X_integrals.append(integral)\n",
    "        test_Y.append(0.0)\n",
    "\n",
    "    test_X_integrals = np.array(test_X_integrals)\n",
    "    test_Y = np.array(test_Y)\n",
    "    # print('Test samples feature value matrix shape is',test_X.shape)\n",
    "    test_X_integrals.dump('data_test-X_integrals')\n",
    "    test_Y.dump('data_test-Y')"
   ]
  },
  {
   "cell_type": "code",
   "execution_count": 7,
   "metadata": {},
   "outputs": [],
   "source": [
    "ClassifierResult = namedtuple('ClassifierResult', 'feature position polarity threshold classification_error')\n",
    "WeakClassifier = namedtuple('WeakClassifier', 'polarity threshold alpha classifier position')"
   ]
  },
  {
   "cell_type": "code",
   "execution_count": 16,
   "metadata": {},
   "outputs": [],
   "source": [
    "train_X = pickle.load(open(\"data_train-X\", \"rb\"))\n",
    "train_Y = pickle.load(open(\"data_train-Y\", \"rb\"))"
   ]
  },
  {
   "cell_type": "code",
   "execution_count": 12,
   "metadata": {},
   "outputs": [
    {
     "name": "stdout",
     "output_type": "stream",
     "text": [
      "(2499, 63960) (2499,)\n"
     ]
    }
   ],
   "source": [
    "print(train_X.shape, train_Y.shape)"
   ]
  },
  {
   "cell_type": "code",
   "execution_count": 23,
   "metadata": {},
   "outputs": [],
   "source": [
    "def ada_boost_train(train_X, train_Y, rounds, features, weights=None):\n",
    "    if weights is None:\n",
    "        weights = initialize_weights(train_Y)\n",
    "\n",
    "    weak_classifiers = []\n",
    "    for t in range(rounds):\n",
    "        start_time = time.time()\n",
    "        print('Weak classifier Round', t+1)\n",
    "        weights = weights / weights.sum()\n",
    "        # best weak classifier for this round\n",
    "        classifier, weights = get_best_wk_classified(train_X, train_Y, weights, features)\n",
    "        weak_classifiers.append(classifier)\n",
    "        if (t+1) in [1, 3, 5, 10]:\n",
    "            with open(\"wk_\"+str(t+1)+\".pkl\", 'wb') as f:\n",
    "                pickle.dump(weak_classifiers, f)\n",
    "        time_now = time.time()\n",
    "        print()\n",
    "        print('Time taken', (time_now - start_time))\n",
    "    return weak_classifiers"
   ]
  },
  {
   "cell_type": "code",
   "execution_count": 14,
   "metadata": {},
   "outputs": [],
   "source": [
    "def get_best_wk_classified(train_X, train_Y, weights, features):\n",
    "    best_wk = ClassifierResult(feature=None, position=0, polarity=0, threshold=0, classification_error=float('inf'))\n",
    "    processed = 1\n",
    "    print('Completed: ')\n",
    "    for i,f in enumerate(features):\n",
    "        result = classify_wk(f, i, train_X[:,i], train_Y, weights)\n",
    "        if result.classification_error < best_wk.classification_error:\n",
    "            best_wk = result\n",
    "        processed += 1\n",
    "        if processed % 5000 == 0:\n",
    "            print(processed, end=' ')\n",
    "    beta = best_wk.classification_error / (1 - best_wk.classification_error)\n",
    "    alpha = np.log(1. / beta)\n",
    "    classifier = WeakClassifier(threshold=best_wk.threshold, \n",
    "                                polarity=best_wk.polarity, \n",
    "                                classifier=best_wk.feature, \n",
    "                                position=best_wk.position, \n",
    "                                alpha=alpha)\n",
    "    for i, (fx, y) in enumerate(zip(train_X[:,classifier.position], train_Y)):\n",
    "        h = weak_classifier(fx, classifier.polarity, classifier.threshold)\n",
    "        e = np.abs(h - y)\n",
    "        weights[i] = weights[i] * np.power(beta, 1-e)\n",
    "    return classifier, weights"
   ]
  },
  {
   "cell_type": "code",
   "execution_count": 15,
   "metadata": {},
   "outputs": [],
   "source": [
    "def initialize_weights(train_Y):\n",
    "    faces = len(train_Y[train_Y > 0.5])\n",
    "    non_faces = len(train_Y[train_Y < 0.5])\n",
    "\n",
    "    weights = np.zeros(train_Y.shape)\n",
    "    weights[train_Y > 0.5] = 1.0/(2*faces)\n",
    "    weights[train_Y < 0.5] = 1.0/(2*non_faces)\n",
    "    return weights"
   ]
  },
  {
   "cell_type": "code",
   "execution_count": 16,
   "metadata": {},
   "outputs": [],
   "source": [
    "def classify_wk(feature, position, train_fX, train_Y, weights):\n",
    "    threshold, polarity = determine_threshold_polarity(train_fX, train_Y, weights)\n",
    "    # Determine the classification error\n",
    "    error = 0.0\n",
    "    for fx, y, w in zip(train_fX, train_Y, weights):\n",
    "        h = weak_classifier(fx, polarity, threshold)\n",
    "        error += w * np.abs(h - y)\n",
    "    return ClassifierResult(threshold=threshold, polarity=polarity, \n",
    "                            classification_error=error, feature=feature, position=position)"
   ]
  },
  {
   "cell_type": "code",
   "execution_count": 17,
   "metadata": {},
   "outputs": [],
   "source": [
    "def determine_threshold_polarity(data_y, weights, feature_val) :  \n",
    "    index = np.argsort(feature_val)\n",
    "    feature_val= feature_val[index]\n",
    "    data_y= data_y[index]\n",
    "    weights= weights[index]\n",
    "    total_minus, total_plus, running_minuses, running_pluses = calculate_running_sum(data_y, weights)\n",
    "    return best_feature_threshold(feature_val, total_minus, total_plus, running_minuses, running_pluses)"
   ]
  },
  {
   "cell_type": "code",
   "execution_count": 18,
   "metadata": {},
   "outputs": [],
   "source": [
    "def best_feature_threshold(feature_val, total_minus, total_plus, running_minuses, running_pluses):\n",
    "    min_thresh, polarity = 0, 0\n",
    "    min_e = float('inf')\n",
    "    for thres, e_m, e_p in zip(feature_val, running_minuses, running_pluses):\n",
    "        error_p = e_p + (total_minus - e_m)\n",
    "        error_m = e_m + (total_plus - e_p)\n",
    "        if error_p < min_e:\n",
    "            min_e = error_p\n",
    "            polarity = -1\n",
    "            min_thresh = thres\n",
    "\n",
    "        elif error_m < min_e:\n",
    "            min_e = error_m\n",
    "            polarity = 1\n",
    "            min_thresh = thres\n",
    "\n",
    "    return min_thresh, polarity"
   ]
  },
  {
   "cell_type": "code",
   "execution_count": 19,
   "metadata": {},
   "outputs": [],
   "source": [
    "def calculate_running_sum(data_y, weights):\n",
    "    running_minus, running_plus = 0.0, 0.0\n",
    "    total_minus, total_plus = 0.0, 0.0\n",
    "    running_minuses,  running_pluses = [], []\n",
    "    for output, weight in zip(data_y, weights):\n",
    "        if output > 0.5:\n",
    "            running_plus += weight\n",
    "            total_plus += weight\n",
    "        else:\n",
    "            running_minus += weight\n",
    "            total_minus += weight\n",
    "        running_minuses.append(running_minus)\n",
    "        running_pluses.append(running_plus)\n",
    "    return total_minus, total_plus, running_minuses, running_pluses"
   ]
  },
  {
   "cell_type": "code",
   "execution_count": 24,
   "metadata": {},
   "outputs": [],
   "source": [
    "def weak_classifier(fx, polarity, threshold):\n",
    "    ## as per definition of weak classifier\n",
    "    if(polarity * fx) < (polarity*threshold): \n",
    "        return 1\n",
    "    return 0"
   ]
  },
  {
   "cell_type": "markdown",
   "metadata": {},
   "source": [
    "## Training for different rounds "
   ]
  },
  {
   "cell_type": "code",
   "execution_count": 21,
   "metadata": {},
   "outputs": [],
   "source": [
    "def train(rounds):\n",
    "    if not os.path.exists(\"wk_\"+str(rounds)+\".pkl\"):\n",
    "        print('Training Started')\n",
    "        wk = ada_boost_train(train_X, train_Y, rounds, total_features)\n",
    "        with open(\"wk_\"+str(rounds)+\".pkl\", 'wb') as f:\n",
    "            pickle.dump(wk, f)\n",
    "    else:\n",
    "        wk = pickle.load(open(\"wk_\"+str(rounds)+\".pkl\", \"rb\"))\n",
    "    return wk"
   ]
  },
  {
   "cell_type": "code",
   "execution_count": 24,
   "metadata": {},
   "outputs": [
    {
     "name": "stdout",
     "output_type": "stream",
     "text": [
      "Training Started\n",
      "Weak classifier Round 1\n",
      "Completed: \n",
      "5000 10000 15000 20000 25000 30000 35000 40000 45000 50000 55000 60000 \n",
      "Time taken 646.8602104187012\n",
      "Weak classifier Round 2\n",
      "Completed: \n",
      "5000 10000 15000 20000 25000 30000 35000 40000 45000 50000 55000 60000 \n",
      "Time taken 691.7556002140045\n",
      "Weak classifier Round 3\n",
      "Completed: \n",
      "5000 10000 15000 20000 25000 30000 35000 40000 45000 50000 55000 60000 \n",
      "Time taken 665.6745843887329\n",
      "Weak classifier Round 4\n",
      "Completed: \n",
      "5000 10000 15000 20000 25000 30000 35000 40000 45000 50000 55000 60000 \n",
      "Time taken 647.2083048820496\n",
      "Weak classifier Round 5\n",
      "Completed: \n",
      "5000 10000 15000 20000 25000 30000 35000 40000 45000 50000 55000 60000 \n",
      "Time taken 652.1994569301605\n",
      "Weak classifier Round 6\n",
      "Completed: \n",
      "5000 10000 15000 20000 25000 30000 35000 40000 45000 50000 55000 60000 \n",
      "Time taken 652.126222372055\n",
      "Weak classifier Round 7\n",
      "Completed: \n",
      "5000 10000 15000 20000 25000 30000 35000 40000 45000 50000 55000 60000 \n",
      "Time taken 652.2994260787964\n",
      "Weak classifier Round 8\n",
      "Completed: \n",
      "5000 10000 15000 20000 25000 30000 35000 40000 45000 50000 55000 60000 \n",
      "Time taken 650.9870617389679\n",
      "Weak classifier Round 9\n",
      "Completed: \n",
      "5000 10000 15000 20000 25000 30000 35000 40000 45000 50000 55000 60000 \n",
      "Time taken 648.9897511005402\n",
      "Weak classifier Round 10\n",
      "Completed: \n",
      "5000 10000 15000 20000 25000 30000 35000 40000 45000 50000 55000 60000 \n",
      "Time taken 649.5948355197906\n",
      "[WeakClassifier(polarity=-1, threshold=0.00025, alpha=1.2165390200872, classifier=Feature(name='Two Vertical Features', x=7, y=6, width=12, height=10, pos_x=[7, 13, 7, 13, 13, 19, 13, 19], pos_y=[6, 6, 16, 16, 6, 6, 16, 16], kernel=[-1, 1, 1, -1, 1, -1, -1, 1]), position=28028), WeakClassifier(polarity=1, threshold=0.00016203171535411243, alpha=0.9550542896694941, classifier=Feature(name='Two Horizontal Features', x=5, y=14, width=2, height=4, pos_x=[5, 7, 5, 7, 5, 7, 5, 7], pos_y=[14, 14, 16, 16, 16, 16, 18, 18], kernel=[1, -1, -1, 1, -1, 1, 1, -1]), position=8829), WeakClassifier(polarity=-1, threshold=0.0015178189805250537, alpha=0.8468125295076965, classifier=Feature(name='Three Vertical Features', x=5, y=2, width=9, height=1, pos_x=[5, 8, 5, 8, 8, 11, 8, 11, 11, 14, 11, 14], pos_y=[2, 2, 3, 3, 2, 2, 3, 3, 2, 2, 3, 3], kernel=[-1, 1, 1, -1, 1, -1, -1, 1, -1, 1, 1, -1]), position=50342), WeakClassifier(polarity=1, threshold=0.0003212321496803557, alpha=0.9754101903105783, classifier=Feature(name='Two Vertical Features', x=6, y=5, width=2, height=8, pos_x=[6, 7, 6, 7, 7, 8, 7, 8], pos_y=[5, 5, 13, 13, 5, 5, 13, 13], kernel=[-1, 1, 1, -1, 1, -1, -1, 1]), position=26737), WeakClassifier(polarity=-1, threshold=5.518300895819468e-05, alpha=0.7989871114474525, classifier=Feature(name='Two Horizontal Features', x=16, y=17, width=1, height=2, pos_x=[16, 17, 16, 17, 16, 17, 16, 17], pos_y=[17, 17, 18, 18, 18, 18, 19, 19], kernel=[1, -1, -1, 1, -1, 1, 1, -1]), position=16827), WeakClassifier(polarity=-1, threshold=0.0025772960530449788, alpha=0.8088189201722504, classifier=Feature(name='Three Horizontal Features', x=2, y=0, width=1, height=9, pos_x=[2, 3, 2, 3, 2, 3, 2, 3, 2, 3, 2, 3], pos_y=[0, 0, 3, 3, 3, 3, 6, 6, 6, 6, 9, 9], kernel=[-1, 1, 1, -1, 1, -1, -1, 1, -1, 1, 1, -1]), position=36311), WeakClassifier(polarity=-1, threshold=2.8908926348530014e-05, alpha=1.039133259167919, classifier=Feature(name='Two Vertical Features', x=7, y=10, width=2, height=7, pos_x=[7, 8, 7, 8, 8, 9, 8, 9], pos_y=[10, 10, 17, 17, 10, 10, 17, 17], kernel=[-1, 1, 1, -1, 1, -1, -1, 1]), position=28236), WeakClassifier(polarity=1, threshold=1.9567890954909006e-05, alpha=0.681364475517381, classifier=Feature(name='Two Vertical Features', x=9, y=9, width=4, height=1, pos_x=[9, 11, 9, 11, 11, 13, 11, 13], pos_y=[9, 9, 10, 10, 9, 9, 10, 10], kernel=[-1, 1, 1, -1, 1, -1, -1, 1]), position=30135), WeakClassifier(polarity=-1, threshold=0.002271660430895496, alpha=0.9789010415239648, classifier=Feature(name='Three Horizontal Features', x=15, y=1, width=1, height=3, pos_x=[15, 16, 15, 16, 15, 16, 15, 16, 15, 16, 15, 16], pos_y=[1, 1, 2, 2, 2, 2, 3, 3, 3, 3, 4, 4], kernel=[-1, 1, 1, -1, 1, -1, -1, 1, -1, 1, 1, -1]), position=44484), WeakClassifier(polarity=-1, threshold=1.0134888145490722e-05, alpha=0.9847600535542508, classifier=Feature(name='Four Diagonal Features', x=8, y=3, width=2, height=14, pos_x=[8, 9, 8, 9, 9, 10, 9, 10, 8, 9, 8, 9, 9, 10, 9, 10], pos_y=[3, 3, 10, 10, 3, 3, 10, 10, 10, 10, 17, 17, 10, 10, 17, 17], kernel=[-1, 1, 1, -1, 1, -1, -1, 1, 1, -1, -1, 1, -1, 1, 1, -1]), position=61396)]\n"
     ]
    }
   ],
   "source": [
    "wk_10 = train(10)\n",
    "print(wk_10)"
   ]
  },
  {
   "cell_type": "code",
   "execution_count": 25,
   "metadata": {},
   "outputs": [
    {
     "name": "stdout",
     "output_type": "stream",
     "text": [
      "[WeakClassifier(polarity=-1, threshold=0.00025, alpha=1.2165390200872, classifier=Feature(name='Two Vertical Features', x=7, y=6, width=12, height=10, pos_x=[7, 13, 7, 13, 13, 19, 13, 19], pos_y=[6, 6, 16, 16, 6, 6, 16, 16], kernel=[-1, 1, 1, -1, 1, -1, -1, 1]), position=28028)]\n"
     ]
    }
   ],
   "source": [
    "wk_1 = train(1)\n",
    "print(wk_1)"
   ]
  },
  {
   "cell_type": "code",
   "execution_count": 26,
   "metadata": {},
   "outputs": [
    {
     "name": "stdout",
     "output_type": "stream",
     "text": [
      "[WeakClassifier(polarity=-1, threshold=0.00025, alpha=1.2165390200872, classifier=Feature(name='Two Vertical Features', x=7, y=6, width=12, height=10, pos_x=[7, 13, 7, 13, 13, 19, 13, 19], pos_y=[6, 6, 16, 16, 6, 6, 16, 16], kernel=[-1, 1, 1, -1, 1, -1, -1, 1]), position=28028), WeakClassifier(polarity=1, threshold=0.00016203171535411243, alpha=0.9550542896694941, classifier=Feature(name='Two Horizontal Features', x=5, y=14, width=2, height=4, pos_x=[5, 7, 5, 7, 5, 7, 5, 7], pos_y=[14, 14, 16, 16, 16, 16, 18, 18], kernel=[1, -1, -1, 1, -1, 1, 1, -1]), position=8829), WeakClassifier(polarity=-1, threshold=0.0015178189805250537, alpha=0.8468125295076965, classifier=Feature(name='Three Vertical Features', x=5, y=2, width=9, height=1, pos_x=[5, 8, 5, 8, 8, 11, 8, 11, 11, 14, 11, 14], pos_y=[2, 2, 3, 3, 2, 2, 3, 3, 2, 2, 3, 3], kernel=[-1, 1, 1, -1, 1, -1, -1, 1, -1, 1, 1, -1]), position=50342)]\n"
     ]
    }
   ],
   "source": [
    "wk_3 = train(3)\n",
    "print(wk_3)"
   ]
  },
  {
   "cell_type": "code",
   "execution_count": 27,
   "metadata": {},
   "outputs": [
    {
     "name": "stdout",
     "output_type": "stream",
     "text": [
      "[WeakClassifier(polarity=-1, threshold=0.00025, alpha=1.2165390200872, classifier=Feature(name='Two Vertical Features', x=7, y=6, width=12, height=10, pos_x=[7, 13, 7, 13, 13, 19, 13, 19], pos_y=[6, 6, 16, 16, 6, 6, 16, 16], kernel=[-1, 1, 1, -1, 1, -1, -1, 1]), position=28028), WeakClassifier(polarity=1, threshold=0.00016203171535411243, alpha=0.9550542896694941, classifier=Feature(name='Two Horizontal Features', x=5, y=14, width=2, height=4, pos_x=[5, 7, 5, 7, 5, 7, 5, 7], pos_y=[14, 14, 16, 16, 16, 16, 18, 18], kernel=[1, -1, -1, 1, -1, 1, 1, -1]), position=8829), WeakClassifier(polarity=-1, threshold=0.0015178189805250537, alpha=0.8468125295076965, classifier=Feature(name='Three Vertical Features', x=5, y=2, width=9, height=1, pos_x=[5, 8, 5, 8, 8, 11, 8, 11, 11, 14, 11, 14], pos_y=[2, 2, 3, 3, 2, 2, 3, 3, 2, 2, 3, 3], kernel=[-1, 1, 1, -1, 1, -1, -1, 1, -1, 1, 1, -1]), position=50342), WeakClassifier(polarity=1, threshold=0.0003212321496803557, alpha=0.9754101903105783, classifier=Feature(name='Two Vertical Features', x=6, y=5, width=2, height=8, pos_x=[6, 7, 6, 7, 7, 8, 7, 8], pos_y=[5, 5, 13, 13, 5, 5, 13, 13], kernel=[-1, 1, 1, -1, 1, -1, -1, 1]), position=26737), WeakClassifier(polarity=-1, threshold=5.518300895819468e-05, alpha=0.7989871114474525, classifier=Feature(name='Two Horizontal Features', x=16, y=17, width=1, height=2, pos_x=[16, 17, 16, 17, 16, 17, 16, 17], pos_y=[17, 17, 18, 18, 18, 18, 19, 19], kernel=[1, -1, -1, 1, -1, 1, 1, -1]), position=16827)]\n"
     ]
    }
   ],
   "source": [
    "wk_5 = train(5)\n",
    "print(wk_5)"
   ]
  },
  {
   "cell_type": "markdown",
   "metadata": {},
   "source": [
    "## Evaluating Performance for different rounds using Combined Classifier"
   ]
  },
  {
   "cell_type": "code",
   "execution_count": 26,
   "metadata": {},
   "outputs": [],
   "source": [
    "def get_feature(x, index):\n",
    "    return compute_feature(x, total_features[index])"
   ]
  },
  {
   "cell_type": "code",
   "execution_count": 48,
   "metadata": {},
   "outputs": [],
   "source": [
    "def combined_classifier(x, weak_classifiers):\n",
    "    lhs = 0.0\n",
    "    rhs = 0.0\n",
    "    for wc in weak_classifiers:\n",
    "        lhs += wc.alpha * weak_classifier(get_feature(x, wc.position), wc.polarity, wc.threshold)\n",
    "        rhs += wc.alpha\n",
    "    if lhs >= 0.5*rhs:  ## as per definition of strong classifier\n",
    "        return 1\n",
    "    else:\n",
    "        return 0"
   ]
  },
  {
   "cell_type": "code",
   "execution_count": 21,
   "metadata": {},
   "outputs": [],
   "source": [
    "train_X_integrals = pickle.load( open( \"data_train-X_integrals\", \"rb\" ) )\n",
    "train_Y = pickle.load( open( \"data_train-Y\", \"rb\" ) )"
   ]
  },
  {
   "cell_type": "code",
   "execution_count": 22,
   "metadata": {},
   "outputs": [],
   "source": [
    "test_X_integrals = pickle.load( open( \"data_test-X_integrals\", \"rb\" ) )\n",
    "test_Y = pickle.load( open( \"data_test-Y\", \"rb\" ) )"
   ]
  },
  {
   "cell_type": "code",
   "execution_count": 90,
   "metadata": {},
   "outputs": [],
   "source": [
    "def evaluate_performance(data_X, data_Y, weak_classifiers):\n",
    "    y_predicted = []\n",
    "    for x in data_X:\n",
    "        y_predicted.append(combined_classifier(x, weak_classifiers))\n",
    "    return performance(data_Y,y_predicted)"
   ]
  },
  {
   "cell_type": "code",
   "execution_count": 91,
   "metadata": {},
   "outputs": [],
   "source": [
    "def performance(data_test_y, y_predicted):\n",
    "    tn, fp, fn, tp = confusion_matrix(data_test_y, y_predicted).ravel()\n",
    "    acc = accuracy_score(data_test_y, y_predicted)\n",
    "    fpr = fp/(fp+tn)\n",
    "    fnr = fn/(tp+fn)\n",
    "    return acc, fpr, fnr"
   ]
  },
  {
   "cell_type": "code",
   "execution_count": 92,
   "metadata": {},
   "outputs": [
    {
     "name": "stdout",
     "output_type": "stream",
     "text": [
      "Performance for round:  1\n",
      "On train(ACC, FPR and FNR) : (0.6618647458983593, 0.411, 0.04609218436873747)\n",
      "On test(ACC, FPR and FNR) : (0.42686090600678506, 0.5781218066625792, 0.3665254237288136)\n",
      "Performance for round:  3\n",
      "On train(ACC, FPR and FNR) : (0.8231292517006803, 0.173, 0.19238476953907815)\n",
      "On test(ACC, FPR and FNR) : (0.7011075633606066, 0.2876047414674024, 0.7669491525423728)\n",
      "Performance for round:  5\n",
      "On train(ACC, FPR and FNR) : (0.8355342136854742, 0.1965, 0.036072144288577156)\n",
      "On test(ACC, FPR and FNR) : (0.664587906605468, 0.32515838953607196, 0.760593220338983)\n",
      "Performance for round:  10\n",
      "On train(ACC, FPR and FNR) : (0.9003601440576231, 0.124, 0.002004008016032064)\n",
      "On test(ACC, FPR and FNR) : (0.814508082219118, 0.17182709993868792, 0.7521186440677966)\n"
     ]
    }
   ],
   "source": [
    "for t in [1,3,5,10]:\n",
    "    print('Performance for round: ',t)\n",
    "    op = pickle.load( open( \"weak_classifiers_t\"+str(t)+\".pkl\", \"rb\" ) )\n",
    "    print('On train(ACC, FPR and FNR) :', evaluate_performance(train_X_integrals, train_Y, op))\n",
    "    print('On test(ACC, FPR and FNR) :',evaluate_performance(test_X_integrals, test_Y, op))"
   ]
  },
  {
   "cell_type": "markdown",
   "metadata": {},
   "source": [
    "## Visualize top 10 features"
   ]
  },
  {
   "cell_type": "code",
   "execution_count": 94,
   "metadata": {},
   "outputs": [],
   "source": [
    "def image_display_2_horizontal(classify):\n",
    "    test_image = \"Dataset/testset/faces/cmu_0001.png\"\n",
    "    Image.open(test_image).resize((100,100))\n",
    "    test_image_array = image_to_array(Image.open(test_image))\n",
    "    x = classify.classifier.x\n",
    "    y = classify.classifier.y\n",
    "    width = classify.classifier.width\n",
    "    height = classify.classifier.height\n",
    "    test_image_array[y:y+height//2, x:x+width] = 255\n",
    "    test_image_array[y+height//2:y+height, x:x+width] = 0\n",
    "    return (array_to_image(test_image_array))"
   ]
  },
  {
   "cell_type": "code",
   "execution_count": 95,
   "metadata": {},
   "outputs": [],
   "source": [
    "def image_display_2_vertical(classify):\n",
    "    test_image = \"Dataset/testset/faces/cmu_0001.png\"\n",
    "    Image.open(test_image).resize((100,100))\n",
    "    test_image_array = image_to_array(Image.open(test_image))\n",
    "    x = classify.classifier.x\n",
    "    y = classify.classifier.y\n",
    "    width = classify.classifier.width\n",
    "    height = classify.classifier.height\n",
    "    test_image_array[y:y+height, x:x+width//2] = 0\n",
    "    test_image_array[y:y+height, x+width//2:x+width] = 255\n",
    "    return (array_to_image(test_image_array))"
   ]
  },
  {
   "cell_type": "code",
   "execution_count": 96,
   "metadata": {},
   "outputs": [],
   "source": [
    "def image_display_3_vertical(classify):\n",
    "    test_image = \"Dataset/testset/faces/cmu_0001.png\"\n",
    "    Image.open(test_image).resize((100,100))\n",
    "    test_image_array = image_to_array(Image.open(test_image))\n",
    "    x = classify.classifier.x\n",
    "    y = classify.classifier.y\n",
    "    width = classify.classifier.width\n",
    "    height = classify.classifier.height\n",
    "    test_image_array[y:y+height, x:x+width//3] = 0\n",
    "    test_image_array[y:y+height, x+width//3:x+(2*width)//3] = 255\n",
    "    test_image_array[y:y+height, x+(2*width)//3:x+width] = 0\n",
    "    return (array_to_image(test_image_array))"
   ]
  },
  {
   "cell_type": "code",
   "execution_count": 97,
   "metadata": {},
   "outputs": [],
   "source": [
    "def image_display_3_horizontal(classify):\n",
    "    test_image = \"Dataset/testset/faces/cmu_0001.png\"\n",
    "    Image.open(test_image).resize((100,100))\n",
    "    test_image_array = image_to_array(Image.open(test_image))\n",
    "    x = classify.classifier.x\n",
    "    y = classify.classifier.y\n",
    "    width = classify.classifier.width\n",
    "    height = classify.classifier.height\n",
    "    test_image_array[y:y+height//3, x:x+width] = 255\n",
    "    test_image_array[y+height//3:y+(2*height)//3, x:x+width] = 0\n",
    "    test_image_array[y+(2*height)//3:y+height, x:x+width] = 255\n",
    "    return (array_to_image(test_image_array))"
   ]
  },
  {
   "cell_type": "code",
   "execution_count": 98,
   "metadata": {},
   "outputs": [],
   "source": [
    "def image_display_4_diagonal(classify):\n",
    "    test_image = \"Dataset/testset/faces/cmu_0001.png\"\n",
    "    Image.open(test_image).resize((100,100))\n",
    "    test_image_array = image_to_array(Image.open(test_image))\n",
    "    x = classify.classifier.x\n",
    "    y = classify.classifier.y\n",
    "    width = classify.classifier.width\n",
    "    height = classify.classifier.height\n",
    "    test_image_array[y:y+height//2, x:x+width//2] = 255\n",
    "    test_image_array[y:y+height//2, x+width//2:x+width] = 0\n",
    "    test_image_array[y+height//2:y+height, x:x+width//2] = 0\n",
    "    test_image_array[y+height//2:y+height, x+width//2:x+width] = 255\n",
    "    return (array_to_image(test_image_array))"
   ]
  },
  {
   "cell_type": "code",
   "execution_count": 99,
   "metadata": {},
   "outputs": [],
   "source": [
    "clf= pickle.load( open( \"wk_10.pkl\", \"rb\" ) )"
   ]
  },
  {
   "cell_type": "code",
   "execution_count": 100,
   "metadata": {},
   "outputs": [],
   "source": [
    "for t in range(10):\n",
    "    if clf[t].classifier.name =='Two Horizontal Features':\n",
    "        image = image_display_2_horizontal(clf[t]).resize((200,200))\n",
    "    elif clf[t].classifier.name =='Two Vertical Features':\n",
    "        image =image_display_2_vertical(clf[t]).resize((200,200))\n",
    "    elif clf[t].classifier.name =='Three Horizontal Features':\n",
    "        image =image_display_3_horizontal(clf[t]).resize((200,200))\n",
    "    elif clf[t].classifier.name =='Three Vertical Features':\n",
    "        image =image_display_3_vertical(clf[t]).resize((200,200))\n",
    "    elif clf[t].classifier.name =='Four Diagonal Features':\n",
    "        image =image_display_4_diagonal(clf[t]).resize((200,200))\n",
    "    image.save(str(t)+\".png\")\n"
   ]
  },
  {
   "cell_type": "code",
   "execution_count": 102,
   "metadata": {},
   "outputs": [
    {
     "name": "stdout",
     "output_type": "stream",
     "text": [
      "WeakClassifier(polarity=-1, threshold=0.00025, alpha=1.2165390200872, classifier=Feature(name='Two Vertical Features', x=7, y=6, width=12, height=10, pos_x=[7, 13, 7, 13, 13, 19, 13, 19], pos_y=[6, 6, 16, 16, 6, 6, 16, 16], kernel=[-1, 1, 1, -1, 1, -1, -1, 1]), position=28028)\n"
     ]
    },
    {
     "data": {
      "image/png": "[encoded data removed]",
      "text/plain": [
       "<PIL.PngImagePlugin.PngImageFile image mode=L size=200x200 at 0x25465557F40>"
      ]
     },
     "execution_count": 102,
     "metadata": {},
     "output_type": "execute_result"
    }
   ],
   "source": [
    "print(clf[0])\n",
    "Image.open(str(0)+\".png\")"
   ]
  },
  {
   "cell_type": "code",
   "execution_count": 103,
   "metadata": {},
   "outputs": [
    {
     "name": "stdout",
     "output_type": "stream",
     "text": [
      "WeakClassifier(polarity=1, threshold=0.00016203171535411243, alpha=0.9550542896694941, classifier=Feature(name='Two Horizontal Features', x=5, y=14, width=2, height=4, pos_x=[5, 7, 5, 7, 5, 7, 5, 7], pos_y=[14, 14, 16, 16, 16, 16, 18, 18], kernel=[1, -1, -1, 1, -1, 1, 1, -1]), position=8829)\n"
     ]
    },
    {
     "data": {
      "image/png": "[encoded data removed]",
      "text/plain": [
       "<PIL.PngImagePlugin.PngImageFile image mode=L size=200x200 at 0x25465557E80>"
      ]
     },
     "execution_count": 103,
     "metadata": {},
     "output_type": "execute_result"
    }
   ],
   "source": [
    "print(clf[1])\n",
    "Image.open(str(1)+\".png\")"
   ]
  },
  {
   "cell_type": "code",
   "execution_count": 104,
   "metadata": {},
   "outputs": [
    {
     "name": "stdout",
     "output_type": "stream",
     "text": [
      "WeakClassifier(polarity=-1, threshold=0.0015178189805250537, alpha=0.8468125295076965, classifier=Feature(name='Three Vertical Features', x=5, y=2, width=9, height=1, pos_x=[5, 8, 5, 8, 8, 11, 8, 11, 11, 14, 11, 14], pos_y=[2, 2, 3, 3, 2, 2, 3, 3, 2, 2, 3, 3], kernel=[-1, 1, 1, -1, 1, -1, -1, 1, -1, 1, 1, -1]), position=50342)\n"
     ]
    },
    {
     "data": {
      "image/png": "[encoded data removed]",
      "text/plain": [
       "<PIL.PngImagePlugin.PngImageFile image mode=L size=200x200 at 0x25465557670>"
      ]
     },
     "execution_count": 104,
     "metadata": {},
     "output_type": "execute_result"
    }
   ],
   "source": [
    "print(clf[2])\n",
    "Image.open(str(2)+\".png\")"
   ]
  },
  {
   "cell_type": "code",
   "execution_count": 105,
   "metadata": {},
   "outputs": [
    {
     "name": "stdout",
     "output_type": "stream",
     "text": [
      "WeakClassifier(polarity=1, threshold=0.0003212321496803557, alpha=0.9754101903105783, classifier=Feature(name='Two Vertical Features', x=6, y=5, width=2, height=8, pos_x=[6, 7, 6, 7, 7, 8, 7, 8], pos_y=[5, 5, 13, 13, 5, 5, 13, 13], kernel=[-1, 1, 1, -1, 1, -1, -1, 1]), position=26737)\n"
     ]
    },
    {
     "data": {
      "image/png": "[encoded data removed]",
      "text/plain": [
       "<PIL.PngImagePlugin.PngImageFile image mode=L size=200x200 at 0x254B28BFBE0>"
      ]
     },
     "execution_count": 105,
     "metadata": {},
     "output_type": "execute_result"
    }
   ],
   "source": [
    "print(clf[3])\n",
    "Image.open(str(3)+\".png\")"
   ]
  },
  {
   "cell_type": "code",
   "execution_count": 106,
   "metadata": {},
   "outputs": [
    {
     "name": "stdout",
     "output_type": "stream",
     "text": [
      "WeakClassifier(polarity=-1, threshold=5.518300895819468e-05, alpha=0.7989871114474525, classifier=Feature(name='Two Horizontal Features', x=16, y=17, width=1, height=2, pos_x=[16, 17, 16, 17, 16, 17, 16, 17], pos_y=[17, 17, 18, 18, 18, 18, 19, 19], kernel=[1, -1, -1, 1, -1, 1, 1, -1]), position=16827)\n"
     ]
    },
    {
     "data": {
      "image/png": "[encoded data removed]",
      "text/plain": [
       "<PIL.PngImagePlugin.PngImageFile image mode=L size=200x200 at 0x254632EBBE0>"
      ]
     },
     "execution_count": 106,
     "metadata": {},
     "output_type": "execute_result"
    }
   ],
   "source": [
    "print(clf[4])\n",
    "Image.open(str(4)+\".png\")"
   ]
  },
  {
   "cell_type": "code",
   "execution_count": 107,
   "metadata": {},
   "outputs": [
    {
     "name": "stdout",
     "output_type": "stream",
     "text": [
      "WeakClassifier(polarity=-1, threshold=0.0025772960530449788, alpha=0.8088189201722504, classifier=Feature(name='Three Horizontal Features', x=2, y=0, width=1, height=9, pos_x=[2, 3, 2, 3, 2, 3, 2, 3, 2, 3, 2, 3], pos_y=[0, 0, 3, 3, 3, 3, 6, 6, 6, 6, 9, 9], kernel=[-1, 1, 1, -1, 1, -1, -1, 1, -1, 1, 1, -1]), position=36311)\n"
     ]
    },
    {
     "data": {
      "image/png": "[encoded data removed]",
      "text/plain": [
       "<PIL.PngImagePlugin.PngImageFile image mode=L size=200x200 at 0x254655573D0>"
      ]
     },
     "execution_count": 107,
     "metadata": {},
     "output_type": "execute_result"
    }
   ],
   "source": [
    "print(clf[5])\n",
    "Image.open(str(5)+\".png\")"
   ]
  },
  {
   "cell_type": "code",
   "execution_count": 108,
   "metadata": {},
   "outputs": [
    {
     "name": "stdout",
     "output_type": "stream",
     "text": [
      "WeakClassifier(polarity=-1, threshold=2.8908926348530014e-05, alpha=1.039133259167919, classifier=Feature(name='Two Vertical Features', x=7, y=10, width=2, height=7, pos_x=[7, 8, 7, 8, 8, 9, 8, 9], pos_y=[10, 10, 17, 17, 10, 10, 17, 17], kernel=[-1, 1, 1, -1, 1, -1, -1, 1]), position=28236)\n"
     ]
    },
    {
     "data": {
      "image/png": "[encoded data removed]",
      "text/plain": [
       "<PIL.PngImagePlugin.PngImageFile image mode=L size=200x200 at 0x25465557A30>"
      ]
     },
     "execution_count": 108,
     "metadata": {},
     "output_type": "execute_result"
    }
   ],
   "source": [
    "print(clf[6])\n",
    "Image.open(str(6)+\".png\")"
   ]
  },
  {
   "cell_type": "code",
   "execution_count": 109,
   "metadata": {},
   "outputs": [
    {
     "name": "stdout",
     "output_type": "stream",
     "text": [
      "WeakClassifier(polarity=1, threshold=1.9567890954909006e-05, alpha=0.681364475517381, classifier=Feature(name='Two Vertical Features', x=9, y=9, width=4, height=1, pos_x=[9, 11, 9, 11, 11, 13, 11, 13], pos_y=[9, 9, 10, 10, 9, 9, 10, 10], kernel=[-1, 1, 1, -1, 1, -1, -1, 1]), position=30135)\n"
     ]
    },
    {
     "data": {
      "image/png": "[encoded data removed]",
      "text/plain": [
       "<PIL.PngImagePlugin.PngImageFile image mode=L size=200x200 at 0x254B20EBA60>"
      ]
     },
     "execution_count": 109,
     "metadata": {},
     "output_type": "execute_result"
    }
   ],
   "source": [
    "print(clf[7])\n",
    "Image.open(str(7)+\".png\")"
   ]
  },
  {
   "cell_type": "code",
   "execution_count": 110,
   "metadata": {},
   "outputs": [
    {
     "name": "stdout",
     "output_type": "stream",
     "text": [
      "WeakClassifier(polarity=-1, threshold=0.002271660430895496, alpha=0.9789010415239648, classifier=Feature(name='Three Horizontal Features', x=15, y=1, width=1, height=3, pos_x=[15, 16, 15, 16, 15, 16, 15, 16, 15, 16, 15, 16], pos_y=[1, 1, 2, 2, 2, 2, 3, 3, 3, 3, 4, 4], kernel=[-1, 1, 1, -1, 1, -1, -1, 1, -1, 1, 1, -1]), position=44484)\n"
     ]
    },
    {
     "data": {
      "image/png": "[encoded data removed]",
      "text/plain": [
       "<PIL.PngImagePlugin.PngImageFile image mode=L size=200x200 at 0x254B20EB970>"
      ]
     },
     "execution_count": 110,
     "metadata": {},
     "output_type": "execute_result"
    }
   ],
   "source": [
    "print(clf[8])\n",
    "Image.open(str(8)+\".png\")"
   ]
  },
  {
   "cell_type": "code",
   "execution_count": 112,
   "metadata": {
    "scrolled": true
   },
   "outputs": [
    {
     "name": "stdout",
     "output_type": "stream",
     "text": [
      "WeakClassifier(polarity=-1, threshold=1.0134888145490722e-05, alpha=0.9847600535542508, classifier=Feature(name='Four Diagonal Features', x=8, y=3, width=2, height=14, pos_x=[8, 9, 8, 9, 9, 10, 9, 10, 8, 9, 8, 9, 9, 10, 9, 10], pos_y=[3, 3, 10, 10, 3, 3, 10, 10, 10, 10, 17, 17, 10, 10, 17, 17], kernel=[-1, 1, 1, -1, 1, -1, -1, 1, 1, -1, -1, 1, -1, 1, 1, -1]), position=61396)\n"
     ]
    },
    {
     "data": {
      "image/png": "[encoded data removed]",
      "text/plain": [
       "<PIL.PngImagePlugin.PngImageFile image mode=L size=200x200 at 0x254B20EB8E0>"
      ]
     },
     "execution_count": 112,
     "metadata": {},
     "output_type": "execute_result"
    }
   ],
   "source": [
    "print(clf[9])\n",
    "Image.open(str(9)+\".png\")"
   ]
  },
  {
   "cell_type": "markdown",
   "metadata": {},
   "source": [
    "## ROC obtained by using different threshold values"
   ]
  },
  {
   "cell_type": "code",
   "execution_count": 93,
   "metadata": {},
   "outputs": [
    {
     "name": "stdout",
     "output_type": "stream",
     "text": [
      "Performance for round:  1\n",
      "rounds1\n"
     ]
    },
    {
     "data": {
      "image/png": "[encoded data removed]",
      "text/plain": [
       "<Figure size 432x288 with 1 Axes>"
      ]
     },
     "metadata": {
      "needs_background": "light"
     },
     "output_type": "display_data"
    },
    {
     "name": "stdout",
     "output_type": "stream",
     "text": [
      "Performance for round:  3\n",
      "rounds3\n"
     ]
    },
    {
     "data": {
      "image/png": "[encoded data removed]",
      "text/plain": [
       "<Figure size 432x288 with 1 Axes>"
      ]
     },
     "metadata": {
      "needs_background": "light"
     },
     "output_type": "display_data"
    },
    {
     "name": "stdout",
     "output_type": "stream",
     "text": [
      "Performance for round:  5\n",
      "rounds5\n"
     ]
    },
    {
     "data": {
      "image/png": "[encoded data removed]",
      "text/plain": [
       "<Figure size 432x288 with 1 Axes>"
      ]
     },
     "metadata": {
      "needs_background": "light"
     },
     "output_type": "display_data"
    },
    {
     "name": "stdout",
     "output_type": "stream",
     "text": [
      "Performance for round:  10\n",
      "rounds10\n"
     ]
    },
    {
     "data": {
      "image/png": "[encoded data removed]",
      "text/plain": [
       "<Figure size 432x288 with 1 Axes>"
      ]
     },
     "metadata": {
      "needs_background": "light"
     },
     "output_type": "display_data"
    }
   ],
   "source": [
    "def roc_curve(data_X, test_Y, weak_classifiers):\n",
    "    X = []\n",
    "    y = []\n",
    "    total_faces_count = (test_Y == 1).sum()\n",
    "    for threshold in np.arange(0, 1.01, 0.01): \n",
    "        y_predicted = []\n",
    "        for x in data_X:\n",
    "            lhs = 0.0\n",
    "            rhs = 0.0\n",
    "            for wc in weak_classifiers:\n",
    "                lhs += wc.alpha * weak_classifier(get_feature(x, wc.position), wc.polarity, wc.threshold)\n",
    "                rhs += wc.alpha\n",
    "            if lhs >= threshold*rhs:  ## as per definition of strong classifier\n",
    "                y_predicted.append(1)\n",
    "            else:\n",
    "                y_predicted.append(0)\n",
    "        tn, fp, fn, tp = confusion_matrix(test_Y, y_predicted).ravel()\n",
    "        acc = accuracy_score(test_Y, y_predicted)\n",
    "        TPR = tp / (tp + fn)\n",
    "        FPR = fp / (fp + tn)\n",
    "        X.append(FPR)\n",
    "        y.append(TPR)\n",
    "    plt.plot(X, y)\n",
    "    plt.xlabel(\"False Positive rate\")\n",
    "    plt.ylabel(\"Detection Rate\")\n",
    "    plt.title(\"ROC Curve\")\n",
    "    plt.show()  \n",
    "\n",
    "\n",
    "for t in [1,3,5,10]:\n",
    "    print('Performance for round: ',t)\n",
    "    op = pickle.load( open( \"wk_\"+str(t)+\".pkl\", \"rb\" ) )\n",
    "    print(\"rounds\" + str(t))\n",
    "    roc_curve(test_X_integrals, test_Y, op)\n"
   ]
  },
  {
   "cell_type": "code",
   "execution_count": null,
   "metadata": {},
   "outputs": [],
   "source": [
    "print('Training Started')\n",
    "cascaded_classifier = adaboostTrain(train_X, train_Y, 25, total_features)\n",
    "with open('cascade.pkl', 'wb') as f:\n",
    "        pickle.dump(cascaded_classifier, f)"
   ]
  },
  {
   "cell_type": "code",
   "execution_count": 44,
   "metadata": {},
   "outputs": [],
   "source": [
    "def cascade_train(data, labels, weak_classifiers):\n",
    "    non_faces = []\n",
    "    for i in range(len(data)): \n",
    "        if labels[i] != 1:\n",
    "            non_faces.append(i)\n",
    "    prev = len(non_faces)\n",
    "    skip = 0\n",
    "    for index, rounds in enumerate(layers):\n",
    "        if len(non_faces) == 0:\n",
    "            print(\"Stop cascade early\")\n",
    "            break\n",
    "        \n",
    "        false_positives = []\n",
    "        for ex in non_faces:\n",
    "            total = 0\n",
    "            lhs = 0\n",
    "            rhs = 0\n",
    "#             print(skip,skip+rounds)\n",
    "            for j in range(skip,skip+rounds):\n",
    "                wc = weak_classifiers[j]\n",
    "                lhs += wc.alpha * weak_classifier(get_feature(data[ex], wc.position), wc.polarity, wc.threshold)\n",
    "                rhs += wc.alpha\n",
    "            if lhs >= 0.5*rhs:  ## as per definition of strong classifier\n",
    "                pred = 1\n",
    "            else:\n",
    "                pred = 0\n",
    "            if pred == 1:\n",
    "                false_positives.append(ex)\n",
    "        non_faces = false_positives\n",
    "        print('Layer ' + str(index + 1) + ': classifier with ' + str(rounds) + ' rounds')\n",
    "        print('Number of non-face images discarded: ', prev-len(non_faces))\n",
    "        prev = len(non_faces)\n",
    "        skip += rounds\n",
    "    return prev\n"
   ]
  },
  {
   "cell_type": "code",
   "execution_count": 45,
   "metadata": {},
   "outputs": [],
   "source": [
    "# layers = [5, 5, 5, 10]\n",
    "# op_cascade = pickle.load( open( \"weak_classifiers_t25.pkl\", \"rb\" ) )\n",
    "\n",
    "layers = [2, 2, 2, 3]\n",
    "op_cascade = pickle.load( open( \"wk_\"+str(10)+\".pkl\", \"rb\" ) )"
   ]
  },
  {
   "cell_type": "code",
   "execution_count": 46,
   "metadata": {},
   "outputs": [
    {
     "name": "stdout",
     "output_type": "stream",
     "text": [
      "Layer 1: classifier with 2 rounds\n",
      "Number of non-face images discarded:  1178\n",
      "Layer 2: classifier with 2 rounds\n",
      "Number of non-face images discarded:  455\n",
      "Layer 3: classifier with 2 rounds\n",
      "Number of non-face images discarded:  366\n",
      "Layer 4: classifier with 3 rounds\n",
      "Number of non-face images discarded:  1\n"
     ]
    },
    {
     "data": {
      "text/plain": [
       "0"
      ]
     },
     "execution_count": 46,
     "metadata": {},
     "output_type": "execute_result"
    }
   ],
   "source": [
    "cascade_train(train_X_integrals, train_Y, op_cascade)"
   ]
  },
  {
   "cell_type": "code",
   "execution_count": 47,
   "metadata": {},
   "outputs": [],
   "source": [
    "def cascade_evaluate(data, labels, weak_classifiers):\n",
    "    cur_data = []\n",
    "    for i in range(len(data)):\n",
    "        cur_data.append(i)\n",
    "    correct = 0\n",
    "    fp = 0\n",
    "    fn = 0\n",
    "    skip = 0\n",
    "    for index, rounds in enumerate(layers):\n",
    "        new_data = []\n",
    "        for i in cur_data:\n",
    "            total = 0\n",
    "            lhs = 0\n",
    "            rhs = 0\n",
    "            for j in range(skip, skip+rounds):\n",
    "                wc = weak_classifiers[j]\n",
    "                alpha = wc.alpha\n",
    "                lhs += wc.alpha * weak_classifier(get_feature(data[i], wc.position), wc.polarity, wc.threshold)\n",
    "                rhs += wc.alpha\n",
    "            if lhs >= 0.5*rhs:  ## as per definition of strong classifier\n",
    "                pred = 1\n",
    "            else:\n",
    "                pred = 0\n",
    "            if pred == 1:\n",
    "                new_data.append(i)\n",
    "            else:\n",
    "                if labels[i]==1:\n",
    "                    fn+=1\n",
    "                else:\n",
    "                    correct+=1\n",
    "        cur_data = new_data\n",
    "        skip += rounds\n",
    "    fp = len(cur_data)\n",
    "    return (correct, fp, fn)"
   ]
  },
  {
   "cell_type": "code",
   "execution_count": 48,
   "metadata": {},
   "outputs": [
    {
     "name": "stdout",
     "output_type": "stream",
     "text": [
      "Cascade Classifier on Train data\n",
      "Training accuracy: 0.80 (2000/2499)\n",
      "False positive: 0.00 (2/2499)\n",
      "False negative: 0.20 (497/2499)\n",
      "\n"
     ]
    }
   ],
   "source": [
    "correct, fp, fn = cascade_evaluate(train_X_integrals, train_Y, op_cascade)\n",
    "f = (train_Y == 1).sum()\n",
    "nf = (train_Y == 0).sum()\n",
    "print('Cascade Classifier on Train data')\n",
    "print('Training accuracy: %.2f (%d/%d)' % (correct/(f+nf), correct, f+nf))\n",
    "print('False positive: %.2f (%d/%d)' % (fp/(f+nf), fp, (f+nf)))\n",
    "print('False negative: %.2f (%d/%d)\\n' % (fn/(f+nf), fn, (f+nf)))"
   ]
  },
  {
   "cell_type": "code",
   "execution_count": 49,
   "metadata": {},
   "outputs": [
    {
     "name": "stdout",
     "output_type": "stream",
     "text": [
      "Cascade Classifier on Test data\n",
      "Testing accuracy: 0.98 (19568/20044)\n",
      "False positive: 0.00 (4/20044)\n",
      "False negative: 0.02 (472/20044)\n",
      "\n"
     ]
    }
   ],
   "source": [
    "correct, fp, fn = cascade_evaluate(test_X_integrals, test_Y, op_cascade)\n",
    "f = (test_Y == 1).sum()\n",
    "nf = (test_Y == 0).sum()\n",
    "print('Cascade Classifier on Test data')\n",
    "print('Testing accuracy: %.2f (%d/%d)' % (correct/(f+nf), correct, (f+nf)))\n",
    "print('False positive: %.2f (%d/%d)' % (fp/(f+nf), fp, (f+nf)))\n",
    "print('False negative: %.2f (%d/%d)\\n' % (fn/(f+nf), fn, (f+nf)))"
   ]
  }
 ],
 "metadata": {
  "kernelspec": {
   "display_name": "Python 3",
   "language": "python",
   "name": "python3"
  },
  "language_info": {
   "codemirror_mode": {
    "name": "ipython",
    "version": 3
   },
   "file_extension": ".py",
   "mimetype": "text/x-python",
   "name": "python",
   "nbconvert_exporter": "python",
   "pygments_lexer": "ipython3",
   "version": "3.7.4"
  }
 },
 "nbformat": 4,
 "nbformat_minor": 2
}
